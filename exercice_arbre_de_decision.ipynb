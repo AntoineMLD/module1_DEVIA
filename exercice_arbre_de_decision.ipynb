{
 "cells": [
  {
   "cell_type": "markdown",
   "metadata": {},
   "source": [
    "Exercices sur les arbres de décisions\n",
    "\n",
    "Pour débuter, il va vous falloir trouver le fichier titanics.csv, ce serra votre dataset pour ces deux prochains jours.\n",
    "Nous vous conseillons de bien l'analyser dans un premier temps.\n",
    "Ensuite lors de son traitement, nous vous conseillons de ne pas garder toute les features, soyez pertinents dans votre choix.\n",
    "\n",
    "Une fois que vous aurez nétoyé votre dataset, il va falloir créer votre premier arbre de décision. Youpi !\n",
    "Mais comment faire ? Pour cela, il va falloir aller regarder la doc dans un premeir temps:\n",
    "https://scikit-learn.org/stable/modules/tree.html#decision-trees\n",
    "\n",
    "Comme vous pourrez le voir dans la documentation de scikit-learn, il existe pluseiurs arbres classification et regression,\n",
    "leurs imports ce fait avec sklearn.tree.DecisionTreeRegressor ou .DecisionTreeClassifier\n",
    "Sachez que DecisionTreeRegressor est utilisé pour les problèmes de régression, où la variable cible est une variable continue. Il prédit une valeur numérique pour chaque instance. Et que DecisionTreeClassifier, quant à lui, est utilisé pour les problèmes de classification, où la variable cible est une variable catégorique. Il attribue une classe à chaque instance.\n",
    "Faites le bon choix !\n",
    "\n",
    "Pour ceux qui ont un peu de mal à comprendre les arbres de décisions, voici quelques docs:\n",
    "https://www.youtube.com/watch?v=gxS_R1Ph9ak\n",
    "https://blent.ai/blog/a/arbres-de-decision-en-machine-learning\n"
   ]
  },
  {
   "cell_type": "markdown",
   "metadata": {},
   "source": [
    "Le but de cet exercice est d'afficher l'accuracy du modèle que vous aurez choisi. N'allez pas trop loin ! pour l'instant on ne fait que les arbres de décisions.\n",
    "\n",
    "Je vous donne mes résultats pour que vous ayez une base de comparaison:\n",
    "\n",
    "Accuracy: 0.7607655502392344\n",
    "Impurity (Gini) at root node: 0.48339170390306463\n",
    "Profondeur de l'arbre de décision: 20"
   ]
  },
  {
   "cell_type": "code",
   "execution_count": null,
   "metadata": {},
   "outputs": [],
   "source": [
    "# Bonne chance :^)\n"
   ]
  },
  {
   "cell_type": "markdown",
   "metadata": {},
   "source": [
    "Si vous avez fini avant les autres, vous pouvez faire des graphes. C'est toujours plus joli quand c'est visuel."
   ]
  }
 ],
 "metadata": {
  "kernelspec": {
   "display_name": "env",
   "language": "python",
   "name": "python3"
  },
  "language_info": {
   "codemirror_mode": {
    "name": "ipython",
    "version": 3
   },
   "file_extension": ".py",
   "mimetype": "text/x-python",
   "name": "python",
   "nbconvert_exporter": "python",
   "pygments_lexer": "ipython3",
   "version": "3.7.1"
  }
 },
 "nbformat": 4,
 "nbformat_minor": 2
}
