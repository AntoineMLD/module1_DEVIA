{
 "cells": [
  {
   "cell_type": "markdown",
   "metadata": {},
   "source": [
    "___\n",
    "___\n",
    "___\n",
    "# Light GBM\n",
    "___\n",
    "___\n",
    "___\n",
    "## Exercice avec le dataset \"wine\"\n",
    "___\n",
    "___\n",
    "___\n",
    "A partir du dataset \"Wine\" (wine.csv), faire des prédictions sur la note à donner d'un vin (feature \"points\").\n",
    "\n",
    "Le code est pré-implanté de la même manière que l'exemple ci-dessus.\n",
    "\n",
    "Tâches à faire :\n",
    "* explorer les données\n",
    "* la cible étant la note donnée à un vin, elle sera considérée comme catégorielle\n",
    "* afficher les résultats suivants : La matrice de confusion, Accuracy\n",
    "* il faut sans doute convertir les résultats de *y_pred_lgbm*\n",
    "* tester des hyperparamètres, sources : https://lightgbm.readthedocs.io/en/latest/Parameters.html | https://towardsdatascience.com/beginners-guide-to-the-must-know-lightgbm-hyperparameters-a0005a812702"
   ]
  },
  {
   "cell_type": "markdown",
   "metadata": {},
   "source": [
    "### Import & données"
   ]
  },
  {
   "cell_type": "code",
   "execution_count": 221,
   "metadata": {},
   "outputs": [
    {
     "name": "stdout",
     "output_type": "stream",
     "text": [
      "##################################################\n",
      "Taille du dataset : (129971, 12) (129971, 1)\n",
      "##################################################\n"
     ]
    },
    {
     "name": "stderr",
     "output_type": "stream",
     "text": [
      "/tmp/ipykernel_94858/892481712.py:24: SettingWithCopyWarning: \n",
      "A value is trying to be set on a copy of a slice from a DataFrame.\n",
      "Try using .loc[row_indexer,col_indexer] = value instead\n",
      "\n",
      "See the caveats in the documentation: https://pandas.pydata.org/pandas-docs/stable/user_guide/indexing.html#returning-a-view-versus-a-copy\n",
      "  y['points'] = pd.cut(y['points'], bins=intervales, labels=etiquettes, include_lowest=True)\n"
     ]
    }
   ],
   "source": [
    "import numpy as np\n",
    "import matplotlib.pyplot as plt\n",
    "import seaborn as sns\n",
    "import pandas as pd\n",
    "from datetime import datetime # juste pour chronométrer\n",
    "from sklearn import metrics\n",
    "from sklearn.metrics import roc_auc_score, confusion_matrix # roc_auc_score pour quantifier la matrice de confusion\n",
    "# En résumé, le score AUC-ROC évalue la capacité d'un modèle à bien classer les exemples positifs par rapport\n",
    "# aux exemples négatifs à différents seuils de probabilité, et il fournit un nombre unique pour mesurer cette performance,\n",
    "# où un score plus élevé indique une meilleure performance.\n",
    "from sklearn.preprocessing import StandardScaler, LabelEncoder\n",
    "from sklearn.model_selection import train_test_split\n",
    "import lightgbm as lgb # librairie LightGBM à installer au préalable $ pip install lightgbm\n",
    "\n",
    "df = pd.read_csv(\"wine.csv\")\n",
    "\n",
    "X = df.drop(labels = [\"Unnamed: 0\", \"points\"], axis=1)\n",
    "y = df[['points']]\n",
    "\n",
    "intervales = [80, 85, 90, 95, 100, 105]\n",
    "etiquettes = ['80-84', '85-89', '90-94', '95-99', '100-104']\n",
    "\n",
    "# Utiliser pd.cut pour créer une nouvelle colonne avec les catégories\n",
    "y['points'] = pd.cut(y['points'], bins=intervales, labels=etiquettes, include_lowest=True)\n",
    "\n",
    "print('##################################################')\n",
    "print(\"Taille du dataset :\", X.shape, y.shape)\n",
    "print('##################################################')\n",
    "y = y['points']"
   ]
  },
  {
   "cell_type": "markdown",
   "metadata": {},
   "source": [
    "### Exploration des données"
   ]
  },
  {
   "cell_type": "code",
   "execution_count": 222,
   "metadata": {},
   "outputs": [
    {
     "data": {
      "text/html": [
       "<div>\n",
       "<style scoped>\n",
       "    .dataframe tbody tr th:only-of-type {\n",
       "        vertical-align: middle;\n",
       "    }\n",
       "\n",
       "    .dataframe tbody tr th {\n",
       "        vertical-align: top;\n",
       "    }\n",
       "\n",
       "    .dataframe thead th {\n",
       "        text-align: right;\n",
       "    }\n",
       "</style>\n",
       "<table border=\"1\" class=\"dataframe\">\n",
       "  <thead>\n",
       "    <tr style=\"text-align: right;\">\n",
       "      <th></th>\n",
       "      <th>country</th>\n",
       "      <th>description</th>\n",
       "      <th>designation</th>\n",
       "      <th>price</th>\n",
       "      <th>province</th>\n",
       "      <th>region_1</th>\n",
       "      <th>region_2</th>\n",
       "      <th>taster_name</th>\n",
       "      <th>taster_twitter_handle</th>\n",
       "      <th>title</th>\n",
       "      <th>variety</th>\n",
       "      <th>winery</th>\n",
       "    </tr>\n",
       "  </thead>\n",
       "  <tbody>\n",
       "    <tr>\n",
       "      <th>0</th>\n",
       "      <td>Italy</td>\n",
       "      <td>Aromas include tropical fruit, broom, brimston...</td>\n",
       "      <td>Vulkà Bianco</td>\n",
       "      <td>NaN</td>\n",
       "      <td>Sicily &amp; Sardinia</td>\n",
       "      <td>Etna</td>\n",
       "      <td>NaN</td>\n",
       "      <td>Kerin O’Keefe</td>\n",
       "      <td>@kerinokeefe</td>\n",
       "      <td>Nicosia 2013 Vulkà Bianco  (Etna)</td>\n",
       "      <td>White Blend</td>\n",
       "      <td>Nicosia</td>\n",
       "    </tr>\n",
       "    <tr>\n",
       "      <th>1</th>\n",
       "      <td>Portugal</td>\n",
       "      <td>This is ripe and fruity, a wine that is smooth...</td>\n",
       "      <td>Avidagos</td>\n",
       "      <td>15.0</td>\n",
       "      <td>Douro</td>\n",
       "      <td>NaN</td>\n",
       "      <td>NaN</td>\n",
       "      <td>Roger Voss</td>\n",
       "      <td>@vossroger</td>\n",
       "      <td>Quinta dos Avidagos 2011 Avidagos Red (Douro)</td>\n",
       "      <td>Portuguese Red</td>\n",
       "      <td>Quinta dos Avidagos</td>\n",
       "    </tr>\n",
       "  </tbody>\n",
       "</table>\n",
       "</div>"
      ],
      "text/plain": [
       "    country                                        description   designation  \\\n",
       "0     Italy  Aromas include tropical fruit, broom, brimston...  Vulkà Bianco   \n",
       "1  Portugal  This is ripe and fruity, a wine that is smooth...      Avidagos   \n",
       "\n",
       "   price           province region_1 region_2    taster_name  \\\n",
       "0    NaN  Sicily & Sardinia     Etna      NaN  Kerin O’Keefe   \n",
       "1   15.0              Douro      NaN      NaN     Roger Voss   \n",
       "\n",
       "  taster_twitter_handle                                          title  \\\n",
       "0          @kerinokeefe              Nicosia 2013 Vulkà Bianco  (Etna)   \n",
       "1            @vossroger  Quinta dos Avidagos 2011 Avidagos Red (Douro)   \n",
       "\n",
       "          variety               winery  \n",
       "0     White Blend              Nicosia  \n",
       "1  Portuguese Red  Quinta dos Avidagos  "
      ]
     },
     "metadata": {},
     "output_type": "display_data"
    },
    {
     "name": "stdout",
     "output_type": "stream",
     "text": [
      "##################################################\n",
      "valeurs uniques de y => ['85-89', '80-84', '90-94', '95-99']\n",
      "Categories (5, object): ['80-84' < '85-89' < '90-94' < '95-99' < '100-104']\n"
     ]
    }
   ],
   "source": [
    "display(X.head(2))\n",
    "print(\"##################################################\")\n",
    "print(\"valeurs uniques de y =>\", y.unique())"
   ]
  },
  {
   "cell_type": "markdown",
   "metadata": {},
   "source": [
    "### Nettoyage des données"
   ]
  },
  {
   "cell_type": "code",
   "execution_count": 223,
   "metadata": {},
   "outputs": [
    {
     "name": "stdout",
     "output_type": "stream",
     "text": [
      "[1 1 1 ... 1 1 1]\n"
     ]
    }
   ],
   "source": [
    "labelencoder = LabelEncoder()\n",
    "\n",
    "y = labelencoder.fit_transform(y)\n",
    "print(y)\n",
    "\n",
    "for column in X.columns:\n",
    "    X[column] = labelencoder.fit_transform(X[column])\n",
    "\n",
    "scaler = StandardScaler()\n",
    "scaler.fit(X)\n",
    "X = scaler.transform(X)"
   ]
  },
  {
   "cell_type": "markdown",
   "metadata": {},
   "source": [
    "### Split du dataset"
   ]
  },
  {
   "cell_type": "code",
   "execution_count": 224,
   "metadata": {},
   "outputs": [
    {
     "name": "stdout",
     "output_type": "stream",
     "text": [
      "Taille des jeux de données : (103976, 12) (103976,) (25995, 12) (25995,)\n"
     ]
    }
   ],
   "source": [
    "X_train, X_test, y_train, y_test = train_test_split(X, y, test_size=0.2, random_state=1)\n",
    "print(\"Taille des jeux de données :\", X_train.shape, y_train.shape, X_test.shape, y_test.shape)"
   ]
  },
  {
   "cell_type": "markdown",
   "metadata": {},
   "source": [
    "### **LightGBM**"
   ]
  },
  {
   "cell_type": "code",
   "execution_count": 225,
   "metadata": {},
   "outputs": [],
   "source": [
    "d_train = lgb.Dataset(X_train, label=y_train)\n",
    "\n",
    "# https://lightgbm.readthedocs.io/en/latest/Parameters.html\n",
    "# sans paramètre => Accuracy with LGBM =  66.18 %\n",
    "lgbm_params = {\n",
    "    'objective': 'multiclass',\n",
    "    'num_class': 4,\n",
    "    'boosting_type': 'dart',\n",
    "    'metric': 'multi_logloss',\n",
    "    'num_leaves': 31,\n",
    "    'learning_rate': 0.05,\n",
    "    'feature_fraction': 0.9,\n",
    "    'bagging_fraction': 0.8,\n",
    "    'bagging_freq': 5,\n",
    "    'verbose': 0,\n",
    "}\n",
    "\n",
    "start=datetime.now()\n",
    "clf = lgb.train(lgbm_params, d_train, 50) #50 iterations. Increase iterations for small learning rates\n",
    "stop=datetime.now()\n",
    "execution_time_lgbm = stop-start\n",
    "\n",
    "#Prediction on test data\n",
    "y_pred_lgbm=clf.predict(X_test)\n",
    "\n",
    "#convert into binary values 0/1 for classification\n",
    "y_pred_lgbm = [list(x).index(max(x)) for x in y_pred_lgbm]"
   ]
  },
  {
   "cell_type": "markdown",
   "metadata": {},
   "source": [
    "___\n",
    "### Confusion matrix\n",
    "___"
   ]
  },
  {
   "cell_type": "code",
   "execution_count": 231,
   "metadata": {},
   "outputs": [
    {
     "name": "stdout",
     "output_type": "stream",
     "text": [
      "################################################\n",
      "# LGBM execution time is:  0:00:01.599063\n",
      "################################################\n",
      "# Accuracy with LGBM =  65.43 %\n",
      "################################################\n"
     ]
    },
    {
     "data": {
      "image/png": "[encoded data removed]",
      "text/plain": [
       "<Figure size 2000x1200 with 2 Axes>"
      ]
     },
     "metadata": {},
     "output_type": "display_data"
    }
   ],
   "source": [
    "plt.figure(figsize=(20, 12))\n",
    "cm_lgbm = confusion_matrix(y_test, y_pred_lgbm)\n",
    "sns.heatmap(cm_lgbm, annot=True)\n",
    "plt.title(\"LightGBM\")\n",
    "plt.xlabel('Valeurs Prédites')\n",
    "plt.ylabel('Valeurs Réelles')\n",
    "\n",
    "################\n",
    "#SUMMARY\n",
    "print(\"################################################\")\n",
    "print(\"# LGBM execution time is: \", execution_time_lgbm)\n",
    "print(\"################################################\")\n",
    "print (\"# Accuracy with LGBM = \", round(metrics.accuracy_score(y_pred_lgbm,y_test) * 100, 2), '%')\n",
    "print(\"################################################\")"
   ]
  }
 ],
 "metadata": {
  "kernelspec": {
   "display_name": "venv",
   "language": "python",
   "name": "python3"
  },
  "language_info": {
   "codemirror_mode": {
    "name": "ipython",
    "version": 3
   },
   "file_extension": ".py",
   "mimetype": "text/x-python",
   "name": "python",
   "nbconvert_exporter": "python",
   "pygments_lexer": "ipython3",
   "version": "3.10.12"
  }
 },
 "nbformat": 4,
 "nbformat_minor": 2
}
