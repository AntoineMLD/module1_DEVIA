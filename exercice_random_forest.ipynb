{
 "cells": [
  {
   "cell_type": "markdown",
   "metadata": {},
   "source": [
    "Exercices sur random forest\n",
    "\n",
    "Bravo, vous avez réussi à faire votre premier arbre de regression ! Maintenant vous allez faire votre premier random forest. C'est pas plus compliqué de faire tout une foret qu'un seul arbre.\n",
    "La doc de sklearn:\n",
    "https://scikit-learn.org/stable/modules/generated/sklearn.ensemble.RandomForestClassifier.html#sklearn.ensemble.RandomForestClassifier\n"
   ]
  },
  {
   "cell_type": "markdown",
   "metadata": {},
   "source": [
    "Le but de cet exercice est le meme que pour l'arbre, d'ailleurs votre code ne devrait pas beaucoup bouger\n",
    "\n",
    "Je vous redonne mes résultats pour que vous ayez une base de comparaison:\n",
    "\n",
    "Accuracy (RandomForest): 0.7703349282296651\n",
    "Impurity (Gini) at root node: 0.48339170390306463\n",
    "Profondeur de l'arbre de décision: 20"
   ]
  },
  {
   "cell_type": "code",
   "execution_count": null,
   "metadata": {},
   "outputs": [],
   "source": [
    "# Have fun !\n"
   ]
  }
 ],
 "metadata": {
  "kernelspec": {
   "display_name": "env",
   "language": "python",
   "name": "python3"
  },
  "language_info": {
   "codemirror_mode": {
    "name": "ipython",
    "version": 3
   },
   "file_extension": ".py",
   "mimetype": "text/x-python",
   "name": "python",
   "nbconvert_exporter": "python",
   "pygments_lexer": "ipython3",
   "version": "3.7.1"
  }
 },
 "nbformat": 4,
 "nbformat_minor": 2
}
