{
 "cells": [
  {
   "cell_type": "markdown",
   "metadata": {},
   "source": [
    "Objectif :\n",
    "Mettre en place un modèle de Random Forest pour prédire la survie des passagers du Titanic.\n",
    "\n",
    "Étapes :\n",
    "\n",
    "    Nettoyage des données :\n",
    "        Vérifiez s'il y a des valeurs manquantes dans le dataset et traitez-les en utilisant des stratégies appropriées.\n",
    "        Convertissez les variables catégorielles en variables numériques si nécessaire.\n",
    "\n",
    "    Random Forest pour la Classification (Prédiction de Survie) :\n",
    "        Utilisez la bibliothèque scikit-learn en Python.\n",
    "        Divisez le dataset en ensembles d'entraînement (training set) et de test (test set).\n",
    "        Entraînez un modèle de Random Forest pour prédire la survie des passagers.\n",
    "        Évaluez les performances du modèle en utilisant des métriques appropriées pour la classification (par exemple, l'accuracy).\n",
    "\n",
    "    Bagging ou Pasting :\n",
    "        Comparez les performances du Random Forest avec bagging et du Random Forest avec pasting.\n",
    "        Utilisez différentes valeurs pour le nombre d'estimateurs (arbres) et observez comment cela affecte les performances.\n",
    "        Choisissez une métrique d'évaluation appropriée pour comparer les deux approches.\n",
    "\n",
    "    Analyse des Résultats :\n",
    "        Analysez et interprétez les résultats obtenus.\n",
    "        Identifiez les hyperparamètres optimaux pour chaque modèle.\n",
    "        Comparez les métriques pour évaluer l'impact du bagging/pasting sur les performances du Random Forest."
   ]
  },
  {
   "cell_type": "code",
   "execution_count": 58,
   "metadata": {},
   "outputs": [],
   "source": [
    "import pandas as pd\n",
    "import numpy as np\n",
    "import matplotlib.pyplot as plt\n",
    "from sklearn.impute import SimpleImputer\n",
    "from sklearn.compose import ColumnTransformer\n",
    "from sklearn.pipeline import Pipeline\n",
    "from sklearn.preprocessing import StandardScaler, OneHotEncoder, LabelEncoder\n",
    "from sklearn.ensemble import BaggingRegressor, BaggingClassifier, RandomForestRegressor, RandomForestClassifier\n",
    "from sklearn.tree import DecisionTreeRegressor, DecisionTreeClassifier\n",
    "from sklearn.feature_selection import SelectKBest, f_regression\n",
    "from sklearn.model_selection import train_test_split\n",
    "from sklearn.pipeline import make_pipeline\n",
    "from sklearn.compose import make_column_transformer\n",
    "from sklearn.discriminant_analysis import StandardScaler\n",
    "from sklearn.compose import ColumnTransformer\n",
    "from sklearn.metrics import accuracy_score, precision_score, roc_auc_score, f1_score, r2_score, mean_squared_error, classification_report"
   ]
  },
  {
   "cell_type": "code",
   "execution_count": 59,
   "metadata": {},
   "outputs": [],
   "source": [
    "# Fonction d'évaluation étendue\n",
    "def evaluate_model(model, X_test, y_test):\n",
    "    y_pred = model.predict(X_test)\n",
    "\n",
    "    if hasattr(model, 'predict_proba'):  # Vérifie si le modèle a une méthode 'predict_proba'\n",
    "        y_proba = model.predict_proba(X_test)[:, 1]  # Probabilité de la classe positive\n",
    "        roc_auc = roc_auc_score(y_test, y_proba)\n",
    "    else:\n",
    "        roc_auc = None\n",
    "\n",
    "    if len(set(y_test)) == 2:  # Classification binaire\n",
    "        accuracy = accuracy_score(y_test, y_pred)\n",
    "        precision = precision_score(y_test, y_pred)\n",
    "        f1 = f1_score(y_test, y_pred)\n",
    "        gini = 2 * roc_auc - 1 if roc_auc is not None else None\n",
    "\n",
    "        print(f\"Accuracy: {accuracy}\")\n",
    "        print(f\"Precision: {precision}\")\n",
    "        print(f\"F1 Score: {f1}\")\n",
    "        print(f\"Gini: {gini}\")\n",
    "    else:  # Régression\n",
    "        mse = mean_squared_error(y_test, y_pred)\n",
    "        rmse = mse ** 0.5\n",
    "        r2 = r2_score(y_test, y_pred)\n",
    "\n",
    "        print(f\"Mean Squared Error: {mse}\")\n",
    "        print(f\"Root Mean Squared Error: {rmse}\")\n",
    "        print(f\"R2 Score: {r2}\")\n",
    "\n",
    "# Exemple d'utilisation avec votre modèle de bagging\n",
    "# evaluate_model(your_model, X_test, y_test)"
   ]
  },
  {
   "cell_type": "markdown",
   "metadata": {},
   "source": [
    "Objectif :\n",
    "\n",
    "Mettre en place un modèle de Random Forest pour prédire la survie des passagers du Titanic."
   ]
  },
  {
   "cell_type": "code",
   "execution_count": 60,
   "metadata": {},
   "outputs": [
    {
     "name": "stdout",
     "output_type": "stream",
     "text": [
      "pclass       0.000764\n",
      "survived     0.000764\n",
      "name         0.000764\n",
      "sex          0.000764\n",
      "age          0.252390\n",
      "sibsp        0.000764\n",
      "parch        0.000764\n",
      "ticket       0.000764\n",
      "fare         0.001529\n",
      "cabin        3.440678\n",
      "embarked     0.002295\n",
      "boat         1.695473\n",
      "body         9.826446\n",
      "home.dest    0.758389\n",
      "dtype: float64\n"
     ]
    }
   ],
   "source": [
    "# Charger les données\n",
    "df = pd.read_csv(\"titanic.csv\")\n",
    "\n",
    "ratio_missing_values = df.isna().sum() / df.count()\n",
    "\n",
    "# Affichage du résultat\n",
    "print(ratio_missing_values)"
   ]
  },
  {
   "cell_type": "markdown",
   "metadata": {},
   "source": [
    "Nettoyage des données :\n",
    "\n",
    "        Vérifiez s'il y a des valeurs manquantes dans le dataset et traitez-les en utilisant des stratégies appropriées.\n",
    "        Convertissez les variables catégorielles en variables numériques si nécessaire."
   ]
  },
  {
   "cell_type": "code",
   "execution_count": 61,
   "metadata": {},
   "outputs": [],
   "source": [
    "# Remplacer ou supprimer les valeurs manquantes"
   ]
  },
  {
   "cell_type": "markdown",
   "metadata": {},
   "source": [
    "Random Forest pour la Classification (Prédiction de Survie) :\n",
    "\n",
    "        Utilisez la bibliothèque scikit-learn en Python.\n",
    "\n",
    "        Divisez le dataset en ensembles d'entraînement (training set) et de test (test set).\n",
    "\n",
    "        Entraînez un modèle de Random Forest pour prédire la survie des passagers.\n",
    "        \n",
    "        Évaluez les performances du modèle en utilisant des métriques appropriées pour la classification (par exemple, l'accuracy)."
   ]
  },
  {
   "cell_type": "code",
   "execution_count": 62,
   "metadata": {},
   "outputs": [],
   "source": [
    "# Séparation des features (X) et de la variable cible (y)\n",
    "\n",
    "# Diviser les données en ensembles d'entraînement et de test\n"
   ]
  },
  {
   "cell_type": "markdown",
   "metadata": {},
   "source": [
    "Bagging ou Pasting :\n",
    "\n",
    "        Comparez les performances du Random Forest avec bagging et du Random Forest avec pasting.\n",
    "\n",
    "        Utilisez différentes valeurs pour le nombre d'estimateurs (arbres) et observez comment cela affecte les performances.\n",
    "        \n",
    "        Choisissez une métrique d'évaluation appropriée pour comparer les deux approches."
   ]
  },
  {
   "cell_type": "code",
   "execution_count": 63,
   "metadata": {},
   "outputs": [],
   "source": [
    "# Modèle de base Random forest\n",
    "\n",
    "# Modèle Bagging avec le modèle de base\n",
    "\n",
    "# Entraînement du modèle\n",
    "\n",
    "# Modèle Pasting avec le modèle de base\n",
    "\n",
    "# Entraînement du modèle"
   ]
  },
  {
   "cell_type": "markdown",
   "metadata": {},
   "source": [
    "Analyse des Résultats :\n",
    "\n",
    "        Analysez et interprétez les résultats obtenus.\n",
    "\n",
    "        Identifiez les hyperparamètres optimaux pour chaque modèle.\n",
    "        "
   ]
  },
  {
   "cell_type": "code",
   "execution_count": 64,
   "metadata": {},
   "outputs": [],
   "source": [
    "# Évaluation du modèle\n",
    "evaluate_model(Your_model, X_test, y_test)"
   ]
  },
  {
   "cell_type": "code",
   "execution_count": 65,
   "metadata": {},
   "outputs": [
    {
     "ename": "NameError",
     "evalue": "name 'y_test' is not defined",
     "output_type": "error",
     "traceback": [
      "\u001b[0;31m---------------------------------------------------------------------------\u001b[0m",
      "\u001b[0;31mNameError\u001b[0m                                 Traceback (most recent call last)",
      "Cell \u001b[0;32mIn[65], line 8\u001b[0m\n\u001b[1;32m      5\u001b[0m plt\u001b[38;5;241m.\u001b[39mfigure(figsize\u001b[38;5;241m=\u001b[39m(\u001b[38;5;241m12\u001b[39m, \u001b[38;5;241m6\u001b[39m))\n\u001b[1;32m      7\u001b[0m \u001b[38;5;66;03m# Tracer les valeurs réelles\u001b[39;00m\n\u001b[0;32m----> 8\u001b[0m plt\u001b[38;5;241m.\u001b[39mscatter(\u001b[38;5;28mrange\u001b[39m(\u001b[38;5;28mlen\u001b[39m(\u001b[43my_test\u001b[49m)), y_test, color\u001b[38;5;241m=\u001b[39m\u001b[38;5;124m'\u001b[39m\u001b[38;5;124mblue\u001b[39m\u001b[38;5;124m'\u001b[39m, label\u001b[38;5;241m=\u001b[39m\u001b[38;5;124m'\u001b[39m\u001b[38;5;124mRéel\u001b[39m\u001b[38;5;124m'\u001b[39m, alpha\u001b[38;5;241m=\u001b[39m\u001b[38;5;241m0.5\u001b[39m)\n\u001b[1;32m     10\u001b[0m \u001b[38;5;66;03m# Tracer les valeurs prédites\u001b[39;00m\n\u001b[1;32m     11\u001b[0m plt\u001b[38;5;241m.\u001b[39mscatter(\u001b[38;5;28mrange\u001b[39m(\u001b[38;5;28mlen\u001b[39m(y_test)), y_pred, color\u001b[38;5;241m=\u001b[39m\u001b[38;5;124m'\u001b[39m\u001b[38;5;124mred\u001b[39m\u001b[38;5;124m'\u001b[39m, label\u001b[38;5;241m=\u001b[39m\u001b[38;5;124m'\u001b[39m\u001b[38;5;124mPrédiction\u001b[39m\u001b[38;5;124m'\u001b[39m, alpha\u001b[38;5;241m=\u001b[39m\u001b[38;5;241m0.5\u001b[39m)\n",
      "\u001b[0;31mNameError\u001b[0m: name 'y_test' is not defined"
     ]
    },
    {
     "data": {
      "text/plain": [
       "<Figure size 1200x600 with 0 Axes>"
      ]
     },
     "metadata": {},
     "output_type": "display_data"
    }
   ],
   "source": [
    "# Obtenir les prédictions du modèle\n",
    "y_pred = Your_model.predict(X_test)\n",
    "\n",
    "# Créer un graphique\n",
    "\n",
    "\n",
    "# Ajouter des labels et une légende\n",
    "plt.xlabel('')\n",
    "plt.ylabel('')\n",
    "plt.legend()\n",
    "\n",
    "# Afficher le graphique\n",
    "plt.show()"
   ]
  }
 ],
 "metadata": {
  "kernelspec": {
   "display_name": "Python 3",
   "language": "python",
   "name": "python3"
  },
  "language_info": {
   "codemirror_mode": {
    "name": "ipython",
    "version": 3
   },
   "file_extension": ".py",
   "mimetype": "text/x-python",
   "name": "python",
   "nbconvert_exporter": "python",
   "pygments_lexer": "ipython3",
   "version": "3.10.12"
  }
 },
 "nbformat": 4,
 "nbformat_minor": 2
}
