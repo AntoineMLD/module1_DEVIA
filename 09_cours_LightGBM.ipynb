{
 "cells": [
  {
   "cell_type": "markdown",
   "metadata": {},
   "source": [
    "___\n",
    "___\n",
    "___\n",
    "# Light GBM\n",
    "___\n",
    "___\n",
    "___\n",
    "LightGBM (Light Gradient Boosting Machine) est une bibliothèque open-source de boosting développée par *Microsoft*. **Elle est conçue pour être rapide et performante**, en particulier sur de grands ensembles de données et sur des tâches d'apprentissage automatique complexes. LightGBM est particulièrement populaire dans les compétitions de science des données en raison de sa rapidité et de sa précision.\n",
    "\n",
    "\n",
    "## 1. Caractéristiques principales de LightGBM :\n",
    "* a. **Boosting :**\n",
    "LightGBM appartient à la famille des méthodes de boosting. Il construit une séquence de modèles faibles (généralement des arbres de décision peu profonds) et les combine pour former un modèle fort.\n",
    "\n",
    "* b. **Rapidité :**\n",
    "LightGBM est optimisé pour être rapide et efficace. Il utilise des techniques telles que le binning, le parallélisme et le pruning pour accélérer l'entraînement du modèle.\n",
    "\n",
    "* c. **Histogramme basé sur le partitionnement :**\n",
    "LightGBM utilise un histogramme basé sur le partitionnement pour construire les arbres de décision. Cela permet de regrouper les valeurs des caractéristiques en intervalles (bins) pour accélérer le processus d'apprentissage.\n",
    "\n",
    "* d. **Light :**\n",
    "Le terme \"Light\" dans LightGBM fait référence à la légèreté du modèle et à la rapidité de l'algorithme. Il est adapté à un large éventail d'applications, y compris celles où les données sont volumineuses.\n",
    "\n",
    "\n",
    "## 2. Principes de fonctionnement :\n",
    "* a. **Gradient Boosting :**\n",
    "Comme d'autres algorithmes de boosting, LightGBM construit des arbres de manière séquentielle en corrigeant les erreurs du modèle précédent.\n",
    "\n",
    "* b. **Leaf-wise Growth :**\n",
    "LightGBM adopte une stratégie de croissance feuille par feuille (leaf-wise growth) pour construire les arbres. Au lieu de faire grandir l'arbre de manière niveaux par niveaux, il choisit la feuille qui donne la plus grande réduction de l'objectif lors de chaque division.\n",
    "\n",
    "* c. **Optimisation par les histogrammes :**\n",
    "LightGBM utilise des histogrammes pour trouver la meilleure façon de diviser les données lors de la construction de chaque arbre. Cela réduit le coût computationnel par rapport à des approches comme le \"full-sorting\".\n",
    "\n",
    "\n",
    "## 3. Utilisation de LightGBM :\n",
    "* a. **Installation :**\n",
    "Vous pouvez installer LightGBM en utilisant la commande pip : **$ pip install lightgbm**\n",
    "\n",
    "* b. **Intégration avec scikit-learn :**\n",
    "LightGBM s'intègre bien avec scikit-learn, ce qui facilite son utilisation dans des pipelines d'apprentissage automatique.\n",
    "\n",
    "* c. **Paramètres importants :**\n",
    "LightGBM offre de nombreux paramètres pour ajuster le modèle. Certains paramètres clés incluent learning_rate, num_leaves, max_depth, min_child_samples, etc.\n",
    "\n",
    "\n",
    "## 4. Hyperparamètres :\n",
    "Voir la source en note plus bas : towardsdatascience.com/ *beginners guide to the must know LightGBM hyperparameters*\n",
    "### Pour commencer :\n",
    "* **Boosting_type :**\n",
    "Il spécifie l'algorithme de boosting à appliquer pour combiner les modèles faibles (généralement des arbres de décision) en un modèle fort. Ce paramètre influence la manière dont les poids des exemples sont mis à jour à chaque itération de boosting.\n",
    "\n",
    "* **Objective :**\n",
    "Définit l'objectif de l'algorithme (ce que vous souhaitez optimiser). Cela dépend de la tâche, par exemple, 'regression' pour la régression, 'binary' pour la classification binaire, 'multiclass' pour la classification multiclasse.\n",
    "Exemple : objective='binary' pour la classification binaire.\n",
    "\n",
    "* **Metric :**\n",
    "Spécifie la métrique à utiliser pour évaluer la performance du modèle pendant l'entraînement. Par exemple, 'binary_logloss' pour la perte logistique binaire, 'multi_logloss' pour la perte logistique multiclasse.\n",
    "Exemple : metric='binary_logloss' pour la classification binaire.\n",
    "\n",
    "* **Seed :**\n",
    "Fixe la graine aléatoire pour rendre les résultats reproductibles (jeu de test pseudo-aléatoire).\n",
    "Exemple : seed=42 pour fixer la graine à 42.\n",
    "\n",
    "* **Verbose :**\n",
    "Contrôle la quantité d'informations affichées pendant l'entraînement. Plus la valeur est élevée, plus il y aura de détails affichés.\n",
    "Exemple : verbose=1 pour afficher des détails pendant l'entraînement.\n",
    "\n",
    "* **Num_iterations :**\n",
    "Spécifie le nombre total d'itérations (boosting rounds) pendant lesquelles le modèle est entraîné.\n",
    "Exemple : num_iterations=100 pour entraîner le modèle pendant 100 itérations.\n",
    "\n",
    "* **Learning_rate :**\n",
    "Contrôle la taille des pas (learning rate) pendant l'optimisation. Un learning rate plus petit peut conduire à une convergence plus lente mais généralement à une meilleure performance.\n",
    "Exemple : learning_rate=0.05 pour un taux d'apprentissage de 0.05.\n",
    "\n",
    "* **Early_stopping_round :**\n",
    "Permet l'arrêt anticipé de l'entraînement si aucune amélioration significative n'est observée sur la métrique de validation après un certain nombre d'itérations.\n",
    "Exemple : early_stopping_round=10 pour arrêter l'entraînement après 10 itérations sans amélioration.\n",
    "\n",
    "### Dans un deuxième temps\n",
    "* **num_leaves :**\n",
    "Contrôle le nombre maximum de feuilles dans un arbre. Une valeur plus élevée peut permettre un modèle plus complexe, mais il peut également conduire à un surajustement.\n",
    "\n",
    "* **max_depth :**\n",
    "Limite la profondeur maximale de l'arbre. Cela peut être utilisé comme alternative ou en conjonction avec num_leaves pour contrôler la complexité de l'arbre.\n",
    "\n",
    "* **min_data_in_leaf :**\n",
    "Spécifie le nombre minimum d'échantillons requis dans une feuille. Cela peut être utilisé pour contrôler la taille minimale des feuilles de l'arbre.\n",
    "\n",
    "* **feature_fraction :**\n",
    "Limite la fraction de caractéristiques (features) à considérer pour la construction de chaque arbre. Utile pour le sous-échantillonnage des features.\n",
    "\n",
    "* **bagging_fraction :**\n",
    "Fraction d'échantillons à utiliser pour l'apprentissage de chaque arbre. Cela introduit le bagging (échantillonnage avec remplacement) pour réduire la variance.\n",
    "\n",
    "* **bagging_freq :**\n",
    "Le paramètre bagging_freq dans LightGBM contrôle la fréquence à laquelle le sous-échantillonnage (bagging) sera effectué lors de l'entraînement des arbres. Cela permet de définir à quelle fréquence l'algorithme doit utiliser un sous-ensemble différent de l'ensemble d'entraînement pour ajuster les arbres.\n",
    "Fréquence pour effectuer l'échantillonnage, 0 signifie aucune échantillonnage. Par défaut, c'est 0.\n",
    "\n",
    "* **lambda_l1, lambda_l2 :**\n",
    "Termes de régularisation L1 et L2 pour contrôler le surajustement en ajoutant des pénalités aux coefficients des caractéristiques.\n",
    "\n",
    "### D'autres hyperparamètres importants :\n",
    "* **min_child_samples :**\n",
    "Remplace min_data_in_leaf. Définit le nombre minimum d'échantillons requis dans chaque feuille.\n",
    "\n",
    "* **min_split_gain :**\n",
    "Le seuil minimum requis pour effectuer une division. Contrôle la décision de créer un nœud.\n",
    "\n",
    "* **cat_smooth :**\n",
    "Il est utilisé pour réduire l'effet du bruit dans les variables catégoriques. Un plus grand cat_smooth donne une version plus lisse de la distribution catégorielle.\n",
    "\n",
    "\n",
    "## 5. Existe-t-il les hyperparamètres 'bootstrap', 'max_samples' et 'max_features' dans LightGBM ? :\n",
    "Il n'y a pas d'hyperparamètres équivalents à max_samples ou max_features dans LightGBM. LightGBM utilise une approche différente basée sur le partitionnement de l'histogramme pour accélérer l'entraînement des modèles.\n",
    "\n",
    "Il sont \"remplacés\" par *feature_fraction*, *bagging_fraction* et *bagging_freq*.\n",
    "\n",
    "\n",
    "## 6. Conclusion :\n",
    "\n",
    "LightGBM est une bibliothèque puissante et performante pour les tâches de boosting. Sa rapidité en fait un choix populaire, en particulier dans les compétitions de science des données. En l'intégrant avec scikit-learn et en ajustant ses paramètres, vous pouvez construire des modèles performants pour diverses applications d'apprentissage automatique.\n",
    "\n",
    "\n",
    "## 7. CheatSheet :\n",
    "| Hyperparamètre         | Objectif                                   | Valeurs exemple                                              |\n",
    "|------------------------|--------------------------------------------|--------------------------------------------------------------|\n",
    "| boosting_type          | Type d’algorithme                           | 'gbdt', 'dart', 'goss', 'rf'                                 |\n",
    "| objective              | Type d’objectif de l’algorithme             | 'binary', 'cross_entropy', 'multiclass', 'softmax', 'regression', 'regression_L1', 'regression_L2', 'quantile', 'huber' |\n",
    "| metric                 | Métrique à utiliser pour évaluer la performance | 'binary_logloss', 'binary_error', 'multi_logloss', 'multi_error', 'l2', 'l1', 'quantile', 'huber' (Mesures Personnalisées possibles) |\n",
    "| seed                   | Choix du jeu de test pseudo-aléatoire      | [0, ∞] ⇒ 'seed': 42                                          |\n",
    "| verbose                | Quantité d’information à afficher           | [0, 1] ⇒ 'verbose': 1                                        |\n",
    "| num_iterations         | Boosting round ⇒ nombre d’arbre            | [1, ∞] ⇒ 'num_iterations': 100                               |\n",
    "| learning_rate          | “Performance”                              | [0, 1] ⇒ 'learning_rate': 0.05                               |\n",
    "| early_stopping_round   | Arrêt anticipé (itérations)                | [1, ∞] ⇒ 'early_stopping_round': 10                          |\n",
    "| num_leaves             | Nombre maximal de feuilles                 | [1, ∞] ⇒ 'num_leaves': 31                                    |\n",
    "| max_depth              | Profondeur de l’arbre                       | [1, ∞] ⇒ 'max_depth': -1 # arbre de profondeur illimité      |\n",
    "| min_data_in_leaf       | Données minimales par feuille               | [1, ∞] ⇒ 'min_data_in_leaf': 20                              |\n",
    "| feature_fraction       | Limite la fraction, utile pour le sous-échantillonnage des features | (0, ∞] ou ]0, ∞] ⇒ 'feature_fraction': 0.8            |\n",
    "| bagging_fraction       | Introduction du bagging pour réduire la variance | (0, ∞] ou ]0, ∞] ⇒ 'bagging_fraction': 0.8             |\n",
    "| bagging_freq           | Fréquence à laquelle le bagging est effectué | [0, ∞] ⇒ 'bagging_freq': 1                                  |\n",
    "| lambda_l1, lambda_l2   | L1, L2                                     | [0, ∞] ⇒ 'lambda_l1': 0.0 / 'lambda_l2': 0.0                |\n",
    "| min_child_samples      | Échantillons minimaux par feuille           | [1, ∞] ⇒ 'min_child_samples': 20                            |\n",
    "| min_split_gain         | Gain minimal pour scinder                   | [0, ∞] ⇒ 'min_split_gain': 0.0                              |\n",
    "| cat_smooth             | Lissage des variables catégorielles         | [0, ∞] ⇒ 'cat_smooth': 1.0                                  |"
   ]
  },
  {
   "cell_type": "markdown",
   "metadata": {},
   "source": [
    "___\n",
    "## sources\n",
    "* https://www.youtube.com/watch?v=n_ZMQj09S6w\n",
    "* https://github.com/microsoft/LightGBM\n",
    "* https://lightgbm.readthedocs.io/en/stable/\n",
    "* https://towardsdatascience.com/beginners-guide-to-the-must-know-lightgbm-hyperparameters-a0005a812702#2d6f\n",
    "* https://nitin9809.medium.com/lightgbm-binary-classification-multi-class-classification-regression-using-python-4f22032b36a2\n",
    "\n",
    "Trello de Christian avec des questions/réponses :\n",
    "https://trello.com/invite/b/DwVMOB6s/ATTI3e7bd8220ba98781b462ec2ee60e0870DE0E03AF/methodes-ensemblistes-et-arbres-de-decision\n",
    "\n",
    "*Code récupéré ici :*\n",
    "https://github.com/bnsreenu/python_for_microscopists/blob/master/196_lightGBM_feature_selection_breast_cancer.py\n",
    "\n",
    "Les commentaires en anglais ne sont pas traduits\n",
    "\n",
    "* **@author: Sreenivas Bhattiprolu**\n",
    "* LGBM and how it compares to XGBoost\n",
    "* https://lightgbm.readthedocs.io/en/latest/\n",
    "* pip install lightgbm\n",
    "* Dataset: https://archive.ics.uci.edu/ml/datasets/Breast+Cancer+Wisconsin+(Diagnostic)\n",
    "* https://youtu.be/n_ZMQj09S6w\n"
   ]
  },
  {
   "cell_type": "markdown",
   "metadata": {},
   "source": [
    "___\n",
    "___\n",
    "___\n",
    "## Exemple : utilisation du dataset ***Titanic*** et comparaison de **LightGBM** avec **XGBoost**\n",
    "___\n",
    "___\n",
    "___\n",
    "### Imports"
   ]
  },
  {
   "cell_type": "code",
   "execution_count": 1483,
   "metadata": {},
   "outputs": [
    {
     "name": "stdout",
     "output_type": "stream",
     "text": [
      "Taille du dataset : (1310, 14)\n"
     ]
    }
   ],
   "source": [
    "import numpy as np\n",
    "import matplotlib.pyplot as plt\n",
    "import seaborn as sns\n",
    "import pandas as pd\n",
    "from datetime import datetime # juste pour chronométrer\n",
    "from sklearn import metrics\n",
    "from sklearn.metrics import roc_auc_score, confusion_matrix # roc_auc_score pour quantifier la matrice de confusion\n",
    "# En résumé, le score AUC-ROC évalue la capacité d'un modèle à bien classer les exemples positifs par rapport\n",
    "# aux exemples négatifs à différents seuils de probabilité, et il fournit un nombre unique pour mesurer cette performance,\n",
    "# où un score plus élevé indique une meilleure performance.\n",
    "from sklearn.preprocessing import StandardScaler, LabelEncoder\n",
    "from sklearn.model_selection import train_test_split\n",
    "import lightgbm as lgb # librairie LightGBM à installer au préalable\n",
    "import xgboost as xgb # pour comparer à XGBoost\n",
    "\n",
    "# Importing the dataset\n",
    "df = pd.read_csv(\"datasets/titanic.csv\")\n",
    "\n",
    "print(\"Taille du dataset :\", df.shape)"
   ]
  },
  {
   "cell_type": "code",
   "execution_count": 1484,
   "metadata": {},
   "outputs": [],
   "source": [
    "# NETTOYAGE (il y a une donnée manquante du la feature 'survived')\n",
    "\n",
    "# df['survived'] = df['survived'].fillna(df['survived'].mean())\n",
    "df = df.dropna(subset=['survived'])\n",
    "df.shape\n",
    "df = df[['pclass', 'survived', 'sex', 'age', 'sibsp', 'parch', 'embarked', 'boat', 'home.dest']]"
   ]
  },
  {
   "cell_type": "markdown",
   "metadata": {},
   "source": [
    "### création du dataframe *Y* + nettoyage"
   ]
  },
  {
   "cell_type": "code",
   "execution_count": 1485,
   "metadata": {},
   "outputs": [
    {
     "name": "stdout",
     "output_type": "stream",
     "text": [
      "[1. 1. 1. 1. 1. 0. 1. 1. 1. 1.]\n"
     ]
    }
   ],
   "source": [
    "#Rename Dataset to Label to make it easy to understand\n",
    "y = df[['survived']]\n",
    "y = y.rename(columns={'survived':'Label'})\n",
    "\n",
    "\n",
    "####### Replace categorical values with numbers########\n",
    "y['Label'].value_counts()\n",
    "\n",
    "#Define the dependent variable that needs to be predicted (labels)\n",
    "y = y[\"Label\"].values\n",
    "\n",
    "# Encoding categorical data\n",
    "labelencoder = LabelEncoder()\n",
    "Y = labelencoder.fit_transform(y)\n",
    "\n",
    "# affichage de la différence entre y et Y\n",
    "print(y[20:30])"
   ]
  },
  {
   "cell_type": "markdown",
   "metadata": {},
   "source": [
    "### création du dataframe *X* + nettoyage"
   ]
  },
  {
   "cell_type": "code",
   "execution_count": 1486,
   "metadata": {},
   "outputs": [],
   "source": [
    "#Define x and normalize values\n",
    "\n",
    "#Define the independent variables. Let's also drop Gender, so we can normalize other data\n",
    "X = df.drop(labels = [\"survived\"], axis=1)\n",
    "\n",
    "labelencoder = LabelEncoder()\n",
    "for column in X.columns:\n",
    "    X[column] = labelencoder.fit_transform(X[column])\n",
    "\n",
    "scaler = StandardScaler()\n",
    "scaler.fit(X)\n",
    "X = scaler.transform(X)"
   ]
  },
  {
   "cell_type": "markdown",
   "metadata": {},
   "source": [
    "### split des données\n",
    "Création des *X_train, X_test, y_train, y_test* à partir de *X* et *Y*"
   ]
  },
  {
   "cell_type": "code",
   "execution_count": 1487,
   "metadata": {},
   "outputs": [],
   "source": [
    "##Split data into train and test to verify accuracy after fitting the model. \n",
    "X_train, X_test, y_train, y_test = train_test_split(X, y, test_size=0.2, random_state=42)"
   ]
  },
  {
   "cell_type": "markdown",
   "metadata": {},
   "source": [
    "___\n",
    "## Light GBM *vs* XGBoost\n",
    "___"
   ]
  },
  {
   "cell_type": "code",
   "execution_count": 1488,
   "metadata": {},
   "outputs": [
    {
     "name": "stdout",
     "output_type": "stream",
     "text": [
      "[LightGBM] [Info] Number of positive: 382, number of negative: 665\n",
      "[LightGBM] [Info] Auto-choosing row-wise multi-threading, the overhead of testing was 0.001115 seconds.\n",
      "You can set `force_row_wise=true` to remove the overhead.\n",
      "And if memory is not enough, you can set `force_col_wise=true`.\n",
      "[LightGBM] [Info] Total Bins 270\n",
      "[LightGBM] [Info] Number of data points in the train set: 1047, number of used features: 8\n",
      "[LightGBM] [Info] [binary:BoostFromScore]: pavg=0.364852 -> initscore=-0.554366\n",
      "[LightGBM] [Info] Start training from score -0.554366\n",
      "[LightGBM] [Warning] No further splits with positive gain, best gain: -inf\n",
      "[LightGBM] [Warning] No further splits with positive gain, best gain: -inf\n",
      "[LightGBM] [Warning] No further splits with positive gain, best gain: -inf\n",
      "[LightGBM] [Warning] No further splits with positive gain, best gain: -inf\n",
      "[LightGBM] [Warning] No further splits with positive gain, best gain: -inf\n",
      "[LightGBM] [Warning] No further splits with positive gain, best gain: -inf\n",
      "[LightGBM] [Warning] No further splits with positive gain, best gain: -inf\n",
      "[LightGBM] [Warning] No further splits with positive gain, best gain: -inf\n",
      "[LightGBM] [Warning] No further splits with positive gain, best gain: -inf\n",
      "[LightGBM] [Warning] No further splits with positive gain, best gain: -inf\n",
      "[LightGBM] [Warning] No further splits with positive gain, best gain: -inf\n",
      "[LightGBM] [Warning] No further splits with positive gain, best gain: -inf\n",
      "[LightGBM] [Warning] No further splits with positive gain, best gain: -inf\n",
      "[LightGBM] [Warning] No further splits with positive gain, best gain: -inf\n",
      "[LightGBM] [Warning] No further splits with positive gain, best gain: -inf\n",
      "[LightGBM] [Warning] No further splits with positive gain, best gain: -inf\n",
      "[LightGBM] [Warning] No further splits with positive gain, best gain: -inf\n",
      "[LightGBM] [Warning] No further splits with positive gain, best gain: -inf\n",
      "[LightGBM] [Warning] No further splits with positive gain, best gain: -inf\n",
      "[LightGBM] [Warning] No further splits with positive gain, best gain: -inf\n",
      "[LightGBM] [Warning] No further splits with positive gain, best gain: -inf\n",
      "[LightGBM] [Warning] No further splits with positive gain, best gain: -inf\n",
      "[LightGBM] [Warning] No further splits with positive gain, best gain: -inf\n",
      "[LightGBM] [Warning] No further splits with positive gain, best gain: -inf\n",
      "[LightGBM] [Warning] No further splits with positive gain, best gain: -inf\n",
      "[LightGBM] [Warning] No further splits with positive gain, best gain: -inf\n",
      "[LightGBM] [Warning] No further splits with positive gain, best gain: -inf\n",
      "[LightGBM] [Warning] No further splits with positive gain, best gain: -inf\n",
      "[LightGBM] [Warning] No further splits with positive gain, best gain: -inf\n",
      "[LightGBM] [Warning] No further splits with positive gain, best gain: -inf\n",
      "[LightGBM] [Warning] No further splits with positive gain, best gain: -inf\n",
      "[LightGBM] [Warning] No further splits with positive gain, best gain: -inf\n",
      "[LightGBM] [Warning] No further splits with positive gain, best gain: -inf\n",
      "[LightGBM] [Warning] No further splits with positive gain, best gain: -inf\n",
      "[LightGBM] [Warning] No further splits with positive gain, best gain: -inf\n",
      "[LightGBM] [Warning] No further splits with positive gain, best gain: -inf\n",
      "[LightGBM] [Warning] No further splits with positive gain, best gain: -inf\n",
      "[LightGBM] [Warning] No further splits with positive gain, best gain: -inf\n",
      "[LightGBM] [Warning] No further splits with positive gain, best gain: -inf\n",
      "[LightGBM] [Warning] No further splits with positive gain, best gain: -inf\n",
      "[LightGBM] [Warning] No further splits with positive gain, best gain: -inf\n",
      "[LightGBM] [Warning] No further splits with positive gain, best gain: -inf\n",
      "[LightGBM] [Warning] No further splits with positive gain, best gain: -inf\n",
      "[LightGBM] [Warning] No further splits with positive gain, best gain: -inf\n",
      "[LightGBM] [Warning] No further splits with positive gain, best gain: -inf\n",
      "[LightGBM] [Warning] No further splits with positive gain, best gain: -inf\n",
      "[LightGBM] [Warning] No further splits with positive gain, best gain: -inf\n",
      "[LightGBM] [Warning] No further splits with positive gain, best gain: -inf\n",
      "[LightGBM] [Warning] No further splits with positive gain, best gain: -inf\n",
      "[LightGBM] [Warning] No further splits with positive gain, best gain: -inf\n"
     ]
    }
   ],
   "source": [
    "###################################\n",
    "# LightGBM\n",
    "\n",
    "d_train = lgb.Dataset(X_train, label=y_train)\n",
    "\n",
    "# https://lightgbm.readthedocs.io/en/latest/Parameters.html\n",
    "lgbm_params = {'learning_rate':0.05, 'boosting_type':'gbdt',    #gbdt or Try dart for better accuracy (it means the best for boosting)\n",
    "              'objective':'binary',\n",
    "              'metric':['auc', 'binary_logloss'],\n",
    "              'num_leaves':100,\n",
    "              'max_depth':10}\n",
    "\n",
    "start=datetime.now()\n",
    "clf = lgb.train(lgbm_params, d_train, 50) #50 iterations. Increase iterations for small learning rates\n",
    "stop=datetime.now()\n",
    "execution_time_lgbm = stop-start\n",
    "\n",
    "#Prediction on test data\n",
    "y_pred_lgbm=clf.predict(X_test)\n",
    "\n",
    "#convert into binary values 0/1 for classification\n",
    "for i in range(0, X_test.shape[0]):\n",
    "    if y_pred_lgbm[i]>=.5:       # setting threshold to .5\n",
    "       y_pred_lgbm[i]=1\n",
    "    else:  \n",
    "       y_pred_lgbm[i]=0\n",
    "\n",
    "\n",
    "###################################\n",
    "# XGBoost\n",
    "dtrain=xgb.DMatrix(X_train, label=y_train)\n",
    "\n",
    "\n",
    "#setting parameters for xgboost\n",
    "parameters={'max_depth':10, \n",
    "            'objective':'binary:logistic',\n",
    "            'eval_metric':'auc',\n",
    "            'learning_rate':.05}\n",
    "\n",
    "\n",
    "start = datetime.now() \n",
    "xg=xgb.train(parameters, dtrain, 50)\n",
    "stop = datetime.now()\n",
    "\n",
    "#Execution time of the model \n",
    "execution_time_xgb = stop-start\n",
    "\n",
    "#now predicting the model on the test set \n",
    "dtest=xgb.DMatrix(X_test)\n",
    "y_pred_xgb = xg.predict(dtest) \n",
    "\n",
    "#Converting probabilities into 1 or 0  \n",
    "for i in range(0, X_test.shape[0]): \n",
    "    if y_pred_xgb[i]>=.5:       # setting threshold to .5 \n",
    "       y_pred_xgb[i]=1 \n",
    "    else: \n",
    "       y_pred_xgb[i]=0"
   ]
  },
  {
   "cell_type": "markdown",
   "metadata": {},
   "source": [
    "___\n",
    "### Confusion matrix\n",
    "___"
   ]
  },
  {
   "cell_type": "code",
   "execution_count": 1489,
   "metadata": {},
   "outputs": [
    {
     "data": {
      "image/png": "[encoded data removed]",
      "text/plain": [
       "<Figure size 640x480 with 2 Axes>"
      ]
     },
     "metadata": {},
     "output_type": "display_data"
    }
   ],
   "source": [
    "cm_lgbm = confusion_matrix(y_test, y_pred_lgbm)\n",
    "sns.heatmap(cm_lgbm, annot=True)\n",
    "plt.title(\"LightGBM\")\n",
    "plt.xlabel('Valeurs Prédites')\n",
    "plt.ylabel('Valeurs Réelles')\n",
    "pass"
   ]
  },
  {
   "cell_type": "code",
   "execution_count": 1490,
   "metadata": {},
   "outputs": [
    {
     "data": {
      "image/png": "[encoded data removed]",
      "text/plain": [
       "<Figure size 640x480 with 2 Axes>"
      ]
     },
     "metadata": {},
     "output_type": "display_data"
    }
   ],
   "source": [
    "cm_xgb = confusion_matrix(y_test, y_pred_xgb)\n",
    "sns.heatmap(cm_xgb, annot=True)\n",
    "plt.title(\"XGboost\")\n",
    "plt.xlabel('Valeurs Prédites')\n",
    "plt.ylabel('Valeurs Réelles')\n",
    "pass"
   ]
  },
  {
   "cell_type": "code",
   "execution_count": 1491,
   "metadata": {},
   "outputs": [
    {
     "name": "stdout",
     "output_type": "stream",
     "text": [
      "################################################\n",
      "# LGBM execution time is:  0:00:00.038525\n",
      "# XGBoost execution time is:  0:00:00.210927\n",
      "# Gain:  0.172402\n",
      "################################################\n",
      "# Accuracy with LGBM =  97.33 %\n",
      "# Accuracy with XGBoost=  96.95 %\n",
      "# gain : 0.38\n",
      "################################################\n",
      "# AUC score with LGBM is:  97.68 %\n",
      "# AUC score with XGBoost is:  97.37 %\n",
      "# gain : 0.31\n",
      "################################################\n"
     ]
    }
   ],
   "source": [
    "################\n",
    "#SUMMARY\n",
    "print(\"################################################\")\n",
    "print(\"# LGBM execution time is: \", execution_time_lgbm)\n",
    "print(\"# XGBoost execution time is: \", execution_time_xgb)\n",
    "difference_in_seconds = (execution_time_xgb - execution_time_lgbm).total_seconds()\n",
    "print(\"# Gain: \", difference_in_seconds)\n",
    "print(\"################################################\")\n",
    "print (\"# Accuracy with LGBM = \", round(metrics.accuracy_score(y_pred_lgbm,y_test) * 100, 2), '%')\n",
    "print (\"# Accuracy with XGBoost= \", round(metrics.accuracy_score(y_pred_xgb, y_test) * 100, 2), '%')\n",
    "print(\"# gain :\", round(metrics.accuracy_score(y_pred_lgbm,y_test) * 100 - metrics.accuracy_score(y_pred_xgb, y_test) * 100, 2))\n",
    "print(\"################################################\")\n",
    "print(\"# AUC score with LGBM is: \", round(roc_auc_score(y_pred_lgbm,y_test) * 100, 2), '%')\n",
    "print(\"# AUC score with XGBoost is: \", round(roc_auc_score(y_pred_xgb, y_test) * 100, 2), '%')\n",
    "print(\"# gain :\", round(roc_auc_score(y_pred_lgbm,y_test) * 100 - roc_auc_score(y_pred_xgb, y_test) * 100, 2))\n",
    "print(\"################################################\")"
   ]
  }
 ],
 "metadata": {
  "kernelspec": {
   "display_name": "venv",
   "language": "python",
   "name": "python3"
  },
  "language_info": {
   "codemirror_mode": {
    "name": "ipython",
    "version": 3
   },
   "file_extension": ".py",
   "mimetype": "text/x-python",
   "name": "python",
   "nbconvert_exporter": "python",
   "pygments_lexer": "ipython3",
   "version": "3.10.12"
  }
 },
 "nbformat": 4,
 "nbformat_minor": 2
}
