{
 "cells": [
  {
   "cell_type": "code",
   "execution_count": 36,
   "metadata": {},
   "outputs": [],
   "source": [
    "from sklearn.model_selection import train_test_split\n",
    "from sklearn.preprocessing import LabelEncoder\n",
    "from sklearn.ensemble import GradientBoostingClassifier\n",
    "from sklearn.metrics import classification_report, accuracy_score\n",
    "import xgboost as xgb\n",
    "import pandas as pd\n",
    "\n",
    "# Chargement des données\n",
    "data = pd.read_csv('datasets/titanic.csv')\n",
    "\n"
   ]
  },
  {
   "cell_type": "markdown",
   "metadata": {},
   "source": [
    "Hyper-paramètres Clés de XGBoost<br><br>\n",
    "\n",
    "**Learning Rate (taux d'apprentissage)** : Affecte la contribution de chaque arbre à la prédiction finale. Un taux plus faible et plus d'arbres peuvent améliorer la généralisation.<br>\n",
    "**N_estimators** : Nombre d'arbres séquentiels à construire. Plus il y a d'arbres, plus le modèle peut être précis, mais attention au surajustement.<br>\n",
    "**Max_depth** : Profondeur maximale de chaque arbre. Contrôle la complexité de chaque arbre, avec un risque plus élevé de surajustement pour des valeurs plus grandes.<br>\n",
    "**Min_child_weight** : Somme minimale des poids d'instance nécessaire dans un enfant. Utilisé pour contrôler le surajustement.<br>\n",
    "**Subsample** : Fraction des échantillons à utiliser pour entraîner chaque arbre. Un faible subsample peut conduire à un sous-ajustement, tandis qu'un subsample élevé à un surajustement.<br>\n",
    "**Colsample_bytree** : Fraction des caractéristiques à utiliser pour chaque arbre. Une valeur plus faible peut améliorer la performance en prévenant le surajustement.<br><br>\n",
    "\n",
    "**XGBoost** :<br>\n",
    "Extrêmement efficace, flexible et portable. Idéal pour les grands ensembles de données.<br>\n",
    "Supporte à la fois le boosting séquentiel et le parallélisme pour une formation rapide.<br>\n",
    "Offre un contrôle avancé sur l'ajustement du modèle et l'ingénierie des fonctionnalités.<br>\n",
    "Bien adapté pour les compétitions de data science et les problèmes complexes.<br><br>"
   ]
  }
 ],
 "metadata": {
  "kernelspec": {
   "display_name": "venv",
   "language": "python",
   "name": "python3"
  },
  "language_info": {
   "codemirror_mode": {
    "name": "ipython",
    "version": 3
   },
   "file_extension": ".py",
   "mimetype": "text/x-python",
   "name": "python",
   "nbconvert_exporter": "python",
   "pygments_lexer": "ipython3",
   "version": "3.10.12"
  }
 },
 "nbformat": 4,
 "nbformat_minor": 2
}
