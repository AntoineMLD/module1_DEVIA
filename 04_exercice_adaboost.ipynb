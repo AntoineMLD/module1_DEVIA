{
 "cells": [
  {
   "cell_type": "markdown",
   "metadata": {},
   "source": [
    "### Bravo, vous avez survécu à la jungle!\n",
    "\n",
    "L'objectif est de reprendre la dataset du titanic, pour implémenter le classifieur Adaboost.\n",
    "\n",
    "Pour bien utiliser l'algorithme et comprendre son implémentation, voici la doc: https://scikit-learn.org/stable/modules/generated/sklearn.ensemble.AdaBoostClassifier.html\n",
    "\n",
    "\n"
   ]
  },
  {
   "cell_type": "code",
   "execution_count": null,
   "metadata": {},
   "outputs": [],
   "source": [
    "# A vos marques, prêts, codez!\n",
    "\n"
   ]
  },
  {
   "cell_type": "markdown",
   "metadata": {},
   "source": [
    "Questions:\n",
    "\n",
    "1. Essayez différents hyparamètres et faites varier leurs valeurs. Que constatez-vous ? \n",
    "\n",
    "2. Quels sont les hyperparamètres significatifs ?\n",
    "\n",
    "3. La régression logistique est une technique couramment utilisée pour la classification binaire, et elle peut être appliquée à des problèmes de prédiction de survie comme celui-ci. \n",
    "La doc est disponible ici: https://scikit-learn.org/stable/modules/generated/sklearn.linear_model.LogisticRegression.html\n",
    "\n",
    "Comparez l'accuracy, et la matrice de confusion avec ceux obtenus avec une régression logistique. \n",
    "\n",
    "\n"
   ]
  }
 ],
 "metadata": {
  "language_info": {
   "name": "python"
  }
 },
 "nbformat": 4,
 "nbformat_minor": 2
}
